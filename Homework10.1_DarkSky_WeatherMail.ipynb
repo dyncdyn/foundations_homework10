{
 "cells": [
  {
   "cell_type": "code",
   "execution_count": 1,
   "metadata": {},
   "outputs": [],
   "source": [
    "import pandas as pd\n",
    "import requests\n",
    "from bs4 import BeautifulSoup"
   ]
  },
  {
   "cell_type": "code",
   "execution_count": 2,
   "metadata": {},
   "outputs": [],
   "source": [
    "from dotenv import load_dotenv\n",
    "load_dotenv()\n",
    "import os"
   ]
  },
  {
   "cell_type": "code",
   "execution_count": 3,
   "metadata": {},
   "outputs": [],
   "source": [
    "API_KEY = os.getenv(\"dark_sky_api_key\")\n",
    "url = f'https://api.darksky.net/forecast/{API_KEY}/37.8267,-122.4233'\n",
    "\n",
    "response = requests.get(url)\n",
    "data = response.json()\n"
   ]
  },
  {
   "cell_type": "code",
   "execution_count": 5,
   "metadata": {},
   "outputs": [
    {
     "data": {
      "text/plain": [
       "dict_keys(['latitude', 'longitude', 'timezone', 'currently', 'minutely', 'hourly', 'daily', 'flags', 'offset'])"
      ]
     },
     "execution_count": 5,
     "metadata": {},
     "output_type": "execute_result"
    }
   ],
   "source": [
    "data.keys()"
   ]
  },
  {
   "cell_type": "code",
   "execution_count": null,
   "metadata": {},
   "outputs": [],
   "source": [
    "temperature = data['currently']['temperature']\n",
    "summary = data['currently']['summary']\n",
    "today = data['daily']['data'][0]\n",
    "temp_feeling = 'warm'\n",
    "high_temp = today['temperatureHigh']\n",
    "low_temp = today['temperatureLow']"
   ]
  },
  {
   "cell_type": "code",
   "execution_count": null,
   "metadata": {},
   "outputs": [],
   "source": [
    "print(f'Right now it is {temperature} degrees out and {summary}. \\\n",
    "Today will be {temp_feeling} with a high of {high_temp} and a low of {low_temp}. \\\n",
    "RAIN_WARNING.')"
   ]
  },
  {
   "cell_type": "code",
   "execution_count": null,
   "metadata": {},
   "outputs": [],
   "source": []
  },
  {
   "cell_type": "code",
   "execution_count": null,
   "metadata": {},
   "outputs": [],
   "source": [
    "import datetime\n",
    "right_now = datetime.datetime.now()\n",
    "date_string = right_now.strftime(\"%Y-%M\")\n",
    "date_string"
   ]
  },
  {
   "cell_type": "code",
   "execution_count": null,
   "metadata": {},
   "outputs": [],
   "source": []
  },
  {
   "cell_type": "code",
   "execution_count": null,
   "metadata": {},
   "outputs": [],
   "source": [
    "response = requests.post(\"https://api.mailgun.net/v3/SANDBOX60ABF18F48944CD784D206060B22489E.MAILGUN.ORG/messages\",\n",
    "                         auth=(\"api\", \"ca3ad75486548de3d51a9fed045a8cd1-29b7488f-0b33e891\"),\n",
    "                         data={\"from\": \"DYN.ACD@GMAIL.COM\",\n",
    "                               \"to\": [\"DYN.ACD@GMAIL.COM\"],\n",
    "                               \"subject\": \"Hello\",\n",
    "                               \"text\": \"Testing some Mailgun awesomness!\"})\n",
    "response.text"
   ]
  },
  {
   "cell_type": "code",
   "execution_count": null,
   "metadata": {},
   "outputs": [],
   "source": []
  },
  {
   "cell_type": "code",
   "execution_count": null,
   "metadata": {},
   "outputs": [],
   "source": []
  }
 ],
 "metadata": {
  "kernelspec": {
   "display_name": "Python 3",
   "language": "python",
   "name": "python3"
  },
  "language_info": {
   "codemirror_mode": {
    "name": "ipython",
    "version": 3
   },
   "file_extension": ".py",
   "mimetype": "text/x-python",
   "name": "python",
   "nbconvert_exporter": "python",
   "pygments_lexer": "ipython3",
   "version": "3.7.3"
  }
 },
 "nbformat": 4,
 "nbformat_minor": 2
}
